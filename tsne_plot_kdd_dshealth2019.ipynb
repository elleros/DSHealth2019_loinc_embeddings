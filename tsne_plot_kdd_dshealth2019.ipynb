{
 "cells": [
  {
   "cell_type": "markdown",
   "metadata": {},
   "source": [
    "# *t*-SNE Plot for LOINC Embeddings\n",
    "**Lorenzo Rossi** (lrossi@coh.org, lorenzo.rossi@gmail.com) \n",
    "\n",
    "This notebook reproducees the *t*-SNE plot (Figure 3, page 4) in the [KDD 2019 DSHealth Workshop](https://dshealthkdd.github.io/dshealth-2019/) paper \"Evaluation of Embeddings of Laboratory Test Codes for Patients at a Cancer Center\": [arxiv.org/abs/1907.09600](https://arxiv.org/abs/1907.09600). The code can be used as a starting point for furtrher in depth exploration of the embeddings.\n",
    "\n",
    "The embeddings have been trained via Word2Vec skip-gram with EHR data from the [City of Hope National Medical Center](https://www.cityofhope.org/homepage). See paper for details on the training.\n",
    "\n",
    "## Files Needed to Run the Notebook\n",
    "The word2vec embeddings for the LOINCs are provided as well as other files, but you will need to downlload the official LOINC CSV file from [loing.org](https://loinc.org). That CSV file is necessary to provide a taxonomy of the LOINC code and hence the classes showed in different colors in the scatter plot.\n",
    "\n",
    "### How to download the official Loinc Table CSV file\n",
    "* Create an account on LOINC.org (it's free) and log in\n",
    "* Click on 'Downloads' (menu at the top of the page)\n",
    "* Click on 'LOINC Table'\n",
    "* Click on 'LOINC Table File (CSV)'\n",
    "* Review and check the review the Copyright and Terms of Use note\n",
    "* Click on 'Download': a zip archive will be downloaded on your machine\n",
    "* Extraxct the Loinc.csv from the zip archive\n",
    "\n",
    "## Citation\n",
    "If you use the material in your work, please cite our paper. __BibTeX entry:__\n",
    "\n",
    "```\n",
    "@inproceedings{larossi2019evaluation,\n",
    "  title={Evaluation of Embeddings of Laboratory Test Codes for Patients at a Cancer Center},\n",
    "  author={Rossi, Lorenzo A and Shawber, Chad and Munu, Janet and Zachariah, Finly},\n",
    "  booktitle={KDD Workshop on Applied Data Science for Healthcare (DSHealth)},\n",
    "  year={2019}\n",
    "}\n",
    "```\n",
    "\n"
   ]
  },
  {
   "cell_type": "code",
   "execution_count": 1,
   "metadata": {},
   "outputs": [
    {
     "name": "stdout",
     "output_type": "stream",
     "text": [
      "Using matplotlib backend: TkAgg\n"
     ]
    }
   ],
   "source": [
    "import seaborn as sns\n",
    "import pandas as pd\n",
    "pd.options.mode.chained_assignment = None\n",
    "from sklearn.manifold import TSNE\n",
    "from gensim.models import Word2Vec, KeyedVectors\n",
    "import warnings\n",
    "warnings.filterwarnings(\"ignore\", category=UserWarning)\n",
    "import matplotlib.pyplot as plt\n",
    "\n",
    "def loinc_class_mapping(ct, map_to_other):\n",
    "    \"\"\"\n",
    "    \"\"\"\n",
    "    try:\n",
    "        return map_to_other[ct]\n",
    "    except (TypeError, KeyError) as e:\n",
    "        return ct\n",
    "\n",
    "def simplify(element, select_list):\n",
    "    \"\"\"\n",
    "    \"\"\"\n",
    "    if element in select_list:\n",
    "        return element\n",
    "    else:\n",
    "        return 'Other'\n",
    "\n",
    "%matplotlib"
   ]
  },
  {
   "cell_type": "code",
   "execution_count": 2,
   "metadata": {},
   "outputs": [],
   "source": [
    "# Parameter setting, file and folder names\n",
    "\n",
    "hc_trained_infolder = 'Data/'\n",
    "vec_folder = 'Data/'\n",
    "doc_folder = 'Data/'\n",
    "in_fold = 'Data/'\n",
    "\n",
    "embedding_fname = 'loinc_s200_w5_c5_sg_wv.txt'\n",
    "cnt_fname = 'loinc_counts.csv'\n",
    "lab_cat_fname = 'coh_top_500_lab_cats_cs.csv'\n",
    "loinc_official_fname = 'Loinc.csv'\n",
    "\n",
    "# parameters\n",
    "rnd_seed = 201905\n",
    "n_max_codes = 500\n",
    "min_class_size = 12\n",
    "\n",
    "#Abbreviations for classes of LOINCs [loing.org]\n",
    "loinc_class_dict = {'ABXBACT':'Antibiotic susceptibilities', 'PULM':'Pulmonary', 'COAG':'Coagulation study', \n",
    "                    'DRUG/TOX':'Drug levels & Toxicology', 'HEM/BC': 'Hematology/Cell counts', 'CHEM':'Chemistry',\n",
    "                    'UA':'Urinalysis', 'MICRO':'Microbiology', 'SERO':'Serology', 'SPEC':'Specimen characteristics',\n",
    "                    'CELLMARK': 'Cell Markers', 'OTHER': 'Other'}"
   ]
  },
  {
   "cell_type": "code",
   "execution_count": 3,
   "metadata": {},
   "outputs": [
    {
     "name": "stdout",
     "output_type": "stream",
     "text": [
      "loaded word vectors from loinc_s200_w5_c5_sg_wv.txt\n"
     ]
    }
   ],
   "source": [
    "# File loading\n",
    "\n",
    "# Word2Vec embeddings for LOINCs\n",
    "cd_embs = KeyedVectors.load_word2vec_format(vec_folder+embedding_fname, binary=False)\n",
    "print('loaded word vectors from', embedding_fname)\n",
    "\n",
    "# COH past LOINC frequencies\n",
    "cd_counts = pd.read_csv(doc_folder+cnt_fname, header=0, squeeze=True, index_col=0)\n",
    "\n",
    "# Manual categorization of lab tests (used)\n",
    "lab_cats = pd.read_csv(in_fold+lab_cat_fname, header=0)\n",
    "\n",
    "# Official loinc.org table\n",
    "loinc_offic = pd.read_csv(in_fold+loinc_official_fname, header=0, low_memory=False)"
   ]
  },
  {
   "cell_type": "code",
   "execution_count": null,
   "metadata": {},
   "outputs": [],
   "source": [
    "# t-SNE computations\n",
    "\n",
    "print('Restrict to', n_max_codes, 'most frequent codes')\n",
    "top_n_codes = cd_counts[:n_max_codes].index.tolist()\n",
    "##top_n_code_names = [cd_dict[cd] for cd in top_n_codes]\n",
    "\n",
    "\n",
    "tsne = TSNE(n_components=2, perplexity=20, learning_rate=40, n_iter=5000, random_state=rnd_seed)\n",
    "X_tsne = tsne.fit_transform(cd_embs[top_n_codes])\n",
    "print('t-SNE completed')"
   ]
  },
  {
   "cell_type": "code",
   "execution_count": null,
   "metadata": {},
   "outputs": [],
   "source": [
    "# Merging CoH internal LOINC data with loinc.org Table\n",
    "lab_cats = lab_cats.merge(loinc_offic, how='left', left_on='Loinc', right_on='LOINC_NUM')# -loinc_offic.columns\n",
    "coh_lab_official = lab_cats[['LOINC_NUM', 'Lab', 'SHORTNAME', 'LONG_COMMON_NAME', 'COMPONENT', 'Category',\n",
    "                             'CLASS', 'SYSTEM', 'CLASSTYPE', 'PROPERTY','EXAMPLE_UNITS', 'RELATEDNAMES2']]\n",
    "coh_lab_official.rename({'Lab': 'COH_NAME', 'Category': 'MANUAL_CATEGORY'}, axis='columns', inplace=True)\n",
    "coh_lab_official['COUNTS'] = cd_counts.values[:len(coh_lab_official)]"
   ]
  },
  {
   "cell_type": "code",
   "execution_count": null,
   "metadata": {},
   "outputs": [],
   "source": [
    "# LOINC class simplification\n",
    "\n",
    "class_counts = coh_lab_official.groupby('CLASS').size().sort_values(ascending=False)\n",
    "map_to_other = pd.Series(dict([(item, 'OTHER') for item in class_counts[class_counts<min_class_size].index]))\n",
    "\n",
    "simplified_classes = coh_lab_official['CLASS'].apply(lambda x: loinc_class_mapping(x, map_to_other), 1)\n",
    "simplified_classes = simplified_classes.map(loinc_class_dict)\n",
    "\n",
    "# Manual Ccassification simplification\n",
    "select_panels = ['Complete Blood Count']#, 'Metabolic Panel']\n",
    "panel = coh_lab_official.MANUAL_CATEGORY.apply(lambda x: simplify(x, select_panels))\n",
    "panel.name = 'PANEL'"
   ]
  },
  {
   "cell_type": "code",
   "execution_count": null,
   "metadata": {},
   "outputs": [],
   "source": [
    "# t-SNE Plot\n",
    "\n",
    "palet = 'nipy_spectral'\n",
    "#\n",
    "filled_markers = ('o', 'v', '^', '<', '>', 's', 'p', '*', 'X',  'P', 'H', 'D', 'd')\n",
    "plt.figure()\n",
    "with sns.plotting_context('paper', font_scale=1.8):\n",
    "    sns.scatterplot(X_tsne[:,0], X_tsne[:,1], hue=simplified_classes, style=panel, markers=['D', 'o'], \n",
    "                    s=48, palette=palet)\n",
    "    plt.legend(bbox_to_anchor=(.9, 1), loc=2, borderaxespad=0.)"
   ]
  },
  {
   "cell_type": "code",
   "execution_count": null,
   "metadata": {},
   "outputs": [],
   "source": []
  }
 ],
 "metadata": {
  "kernelspec": {
   "display_name": "Python 3",
   "language": "python",
   "name": "python3"
  },
  "language_info": {
   "codemirror_mode": {
    "name": "ipython",
    "version": 3
   },
   "file_extension": ".py",
   "mimetype": "text/x-python",
   "name": "python",
   "nbconvert_exporter": "python",
   "pygments_lexer": "ipython3",
   "version": "3.5.2"
  }
 },
 "nbformat": 4,
 "nbformat_minor": 2
}
